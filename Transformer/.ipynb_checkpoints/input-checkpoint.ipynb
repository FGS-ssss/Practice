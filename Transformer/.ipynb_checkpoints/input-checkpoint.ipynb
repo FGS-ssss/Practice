{
 "cells": [
  {
   "cell_type": "code",
   "execution_count": 1,
   "metadata": {},
   "outputs": [],
   "source": [
    "import torch\n",
    "import math\n",
    "import torch.nn as nn\n",
    "import math\n",
    "from torch.autograd import Variable\n",
    "import matplotlib.pyplot as plt"
   ]
  },
  {
   "cell_type": "code",
   "execution_count": 20,
   "metadata": {},
   "outputs": [],
   "source": [
    "class Embeddings(nn.Module):\n",
    "    def __init__(self, vocab, dims):\n",
    "        super(Embeddings,self).__init__()\n",
    "        self.lat = nn.Embedding(vocab, dims)\n",
    "        self.dim = dims\n",
    "    \n",
    "    def forward(self,x):\n",
    "        return self.lat(x) * math.sqrt(self.dim)\n",
    "    \"\"\"\n",
    "    传入sentences句长length的文本 X.shape = [sentences, length]\n",
    "    传出 Em.shape = [sentences, length, dims]\n",
    "    \"\"\"\n",
    "    \n",
    "class PositionalEncoding(nn.Module):\n",
    "    def __init__(self, dims, dropout, max_len=5000):\n",
    "        # dims: dimensions of embeddings\n",
    "        # dropout: ratio of set zero\n",
    "        # max_len: maximal length of sentences\n",
    "        super(PositionalEncoding,self).__init__()\n",
    "        self.dropout = nn.Dropout(p=dropout)\n",
    "        pe = torch.zeros(max_len,dims)\n",
    "        position = torch.arange(0,max_len).unsqueeze(1)\n",
    "        \"\"\"position.shape = max_len, 1\"\"\"\n",
    "        div_term = torch.exp(torch.arange(0,dims,2) * -math.log(10000.0) / dims)\n",
    "        \"\"\"div_term.shape = 1, dims/2\"\"\"\n",
    "        pe[:, 0::2] = torch.sin(position * div_term)\n",
    "        print(pe[:,1::2].shape)\n",
    "        pe[:, 1::2] = torch.cos(position * div_term)\n",
    "        pe = pe.unsqueeze(0)\n",
    "        \"\"\"pe.shape = 1, max_len, dims\"\"\"\n",
    "        self.register_buffer('pe',pe)\n",
    "    \"\"\"\n",
    "    ?why using torch.sin and torch.cos here. Sin and cos might eliminate positional encoding effect.\n",
    "    \"\"\"\n",
    "\n",
    "    def forward(self,x):\n",
    "        x = x + self.pe[:,:x.size(1)]\n",
    "        return self.dropout(x)\n",
    "    \n",
    "    # def test(self):\n",
    "    #     print(self.pe[:,0:10].shape)\n",
    "    #     print(Variable(self.pe[:,0:10],requires_grad=False).shape)\n"
   ]
  },
  {
   "cell_type": "code",
   "execution_count": 21,
   "metadata": {},
   "outputs": [
    {
     "name": "stdout",
     "output_type": "stream",
     "text": [
      "torch.Size([5000, 2])\n"
     ]
    }
   ],
   "source": [
    "dims = 4\n",
    "dropout = 0.5\n",
    "vocab = 10\n",
    "em = nn.Embedding(vocab, dims)\n",
    "a = em(torch.tensor([[1,2],[2,3],[3,4]]))\n",
    "pe = PositionalEncoding(dims, dropout)"
   ]
  },
  {
   "cell_type": "code",
   "execution_count": 25,
   "metadata": {},
   "outputs": [
    {
     "data": {
      "text/plain": [
       "tensor([[ 0.0000,  1.0000,  0.0000,  1.0000],\n",
       "        [ 0.8415,  0.5403,  0.0100,  0.9999],\n",
       "        [ 0.9093, -0.4161,  0.0200,  0.9998],\n",
       "        [ 0.1411, -0.9900,  0.0300,  0.9996],\n",
       "        [-0.7568, -0.6536,  0.0400,  0.9992],\n",
       "        [-0.9589,  0.2837,  0.0500,  0.9988],\n",
       "        [-0.2794,  0.9602,  0.0600,  0.9982],\n",
       "        [ 0.6570,  0.7539,  0.0699,  0.9976],\n",
       "        [ 0.9894, -0.1455,  0.0799,  0.9968],\n",
       "        [ 0.4121, -0.9111,  0.0899,  0.9960]])"
      ]
     },
     "execution_count": 25,
     "metadata": {},
     "output_type": "execute_result"
    }
   ],
   "source": []
  }
 ],
 "metadata": {
  "kernelspec": {
   "display_name": "Python 3 (ipykernel)",
   "language": "python",
   "name": "python3"
  },
  "language_info": {
   "codemirror_mode": {
    "name": "ipython",
    "version": 3
   },
   "file_extension": ".py",
   "mimetype": "text/x-python",
   "name": "python",
   "nbconvert_exporter": "python",
   "pygments_lexer": "ipython3",
   "version": "3.10.9"
  }
 },
 "nbformat": 4,
 "nbformat_minor": 2
}
